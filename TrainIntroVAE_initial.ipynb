{
 "cells": [
  {
   "cell_type": "code",
   "execution_count": 2,
   "metadata": {},
   "outputs": [],
   "source": [
    "import torch\n",
    "import torch.nn as nn\n",
    "import torch.nn.functional as F\n",
    "import torch.optim as optim\n",
    "import torchvision\n",
    "import torchvision.transforms as transforms\n",
    "import utils\n",
    "\n",
    "import models\n",
    "\n",
    "import torchbearer as tb\n",
    "\n",
    "from tensorboard_logging import ReconstructionsLogger, TensorBoardModelLogger, LatentSpaceReconLogger, RandomReconLogger\n",
    "from torchbearer import Trial\n",
    "from torchbearer.callbacks.tensor_board import TensorBoard\n",
    "from utils import AEDatasetWrapper"
   ]
  },
  {
   "cell_type": "code",
   "execution_count": 3,
   "metadata": {},
   "outputs": [],
   "source": [
    "# Parameters:\n",
    "params = {'batch_size': 512,\n",
    "              'embedding_dim': 64,\n",
    "              'image_dim': 784,\n",
    "              'nEpoch': 50,\n",
    "              'conv_ch': 32,\n",
    "              'margin': 4,\n",
    "             'alpha': 0.,\n",
    "             'beta': 3,\n",
    "             'gamma': 1}\n",
    "\n",
    "    # Dataset construction\n",
    "transform = transforms.Compose([\n",
    "        transforms.ToTensor(),  # convert to tensor\n",
    "    ])"
   ]
  },
  {
   "cell_type": "code",
   "execution_count": 4,
   "metadata": {},
   "outputs": [
    {
     "name": "stdout",
     "output_type": "stream",
     "text": [
      "Files already downloaded and verified\n",
      "Files already downloaded and verified\n"
     ]
    }
   ],
   "source": [
    "trainset = AEDatasetWrapper(torchvision.datasets.CIFAR10('.', train=True, transform=transform, download=True))\n",
    "trainloader = torch.utils.data.DataLoader(trainset, batch_size=params['batch_size'], shuffle=True, num_workers=3)\n",
    "testset = AEDatasetWrapper(torchvision.datasets.CIFAR10('.', train=False, transform=transform, download=True))\n",
    "testloader = torch.utils.data.DataLoader(testset, batch_size=params['batch_size'], shuffle=False, num_workers=3)"
   ]
  },
  {
   "cell_type": "code",
   "execution_count": 5,
   "metadata": {},
   "outputs": [],
   "source": [
    "# construct the encoder, decoder and tensorboard_logging instances\n",
    "vae = models.IntroVAE(params['conv_ch'], params['embedding_dim'], alpha=params['alpha'], beta=params['beta'], gamma=params['gamma'], margin=params['margin'], amsgrad=True)\n",
    "\n",
    "tb_comment = 'simplulex'\n",
    "tbl = TensorBoard(write_graph=True, comment=tb_comment)\n",
    "tbml = TensorBoardModelLogger(comment=tb_comment)\n",
    "rsl = ReconstructionsLogger(comment=tb_comment, output_shape=(3, 32, 32))\n",
    "lsrl = LatentSpaceReconLogger(comment=tb_comment, output_shape=(3, 32, 32), latent_dim=params['embedding_dim'])\n",
    "rrl = RandomReconLogger(comment=tb_comment, latent_dim=params['embedding_dim'], output_shape=(3, 32, 32))"
   ]
  },
  {
   "cell_type": "code",
   "execution_count": 6,
   "metadata": {},
   "outputs": [],
   "source": [
    "encoder_step = models.encoder_step()\n",
    "encoder_loss = models.encoder_loss()\n",
    "\n",
    "decoder_step = models.decoder_step()\n",
    "decoder_loss = models.decoder_loss()\n",
    "\n",
    "forward_step = models.forward_step()\n",
    "recons_loss = models.recons_loss()"
   ]
  },
  {
   "cell_type": "code",
   "execution_count": 7,
   "metadata": {},
   "outputs": [],
   "source": [
    "device = \"cuda:0\" if torch.cuda.is_available() else \"cpu\""
   ]
  },
  {
   "cell_type": "code",
   "execution_count": 8,
   "metadata": {},
   "outputs": [
    {
     "data": {
      "text/plain": [
       "--------------------- OPTIMZER ---------------------\n",
       "MockOptimizer ()\n",
       "\n",
       "-------------------- CRITERION ---------------------\n",
       "<function Trial.__init__.<locals>.criterion at 0x7f90799a5d90>\n",
       "\n",
       "--------------------- METRICS ----------------------\n",
       "['recons_loss', 'encoder_loss', 'decoder_loss']\n",
       "\n",
       "-------------------- CALLBACKS ---------------------\n",
       "['models.encoder_step', 'models.decoder_step', 'models.forward_step', 'torchbearer.callbacks.tensor_board.TensorBoard', 'tensorboard_logging.TensorBoardModelLogger', 'tensorboard_logging.ReconstructionsLogger', 'tensorboard_logging.LatentSpaceReconLogger', 'tensorboard_logging.RandomReconLogger']\n",
       "\n",
       "---------------------- MODEL -----------------------\n",
       "IntroVAE(\n",
       "  (enc): Encoder(\n",
       "    (conv1): Conv2d(3, 3, kernel_size=(2, 2), stride=(1, 1))\n",
       "    (conv2): Conv2d(3, 32, kernel_size=(2, 2), stride=(2, 2))\n",
       "    (conv3): Conv2d(32, 32, kernel_size=(3, 3), stride=(1, 1), padding=(1, 1))\n",
       "    (conv4): Conv2d(32, 32, kernel_size=(3, 3), stride=(1, 1), padding=(1, 1))\n",
       "    (inter): Linear(in_features=8192, out_features=128, bias=True)\n",
       "    (mu): Linear(in_features=128, out_features=64, bias=True)\n",
       "    (log_sigma2): Linear(in_features=128, out_features=64, bias=True)\n",
       "  )\n",
       "  (dec): Decoder(\n",
       "    (inter): Linear(in_features=64, out_features=128, bias=True)\n",
       "    (hidden): Linear(in_features=128, out_features=8192, bias=True)\n",
       "    (deconv1): ConvTranspose2d(32, 32, kernel_size=(3, 3), stride=(1, 1), padding=(1, 1))\n",
       "    (deconv2): ConvTranspose2d(32, 32, kernel_size=(3, 3), stride=(1, 1), padding=(1, 1))\n",
       "    (deconv3): ConvTranspose2d(32, 32, kernel_size=(2, 2), stride=(2, 2))\n",
       "    (deconv4): ConvTranspose2d(32, 3, kernel_size=(1, 1), stride=(1, 1))\n",
       "  )\n",
       ")\n"
      ]
     },
     "execution_count": 8,
     "metadata": {},
     "output_type": "execute_result"
    }
   ],
   "source": [
    "trial = Trial(vae, optimizer=None, criterion=None, \n",
    "              metrics=[recons_loss, encoder_loss, decoder_loss], \n",
    "              callbacks=[encoder_step, decoder_step, forward_step, tbl, tbml, rsl, lsrl, rrl],\n",
    "              verbose=0).to(device)\n",
    "trial.with_generators(trainloader, val_generator=testloader)"
   ]
  },
  {
   "cell_type": "code",
   "execution_count": null,
   "metadata": {},
   "outputs": [],
   "source": [
    "trial.run(epochs=100)"
   ]
  },
  {
   "cell_type": "code",
   "execution_count": null,
   "metadata": {},
   "outputs": [],
   "source": [
    "utils.save(vae, 'intro.w')"
   ]
  },
  {
   "cell_type": "code",
   "execution_count": null,
   "metadata": {},
   "outputs": [],
   "source": []
  }
 ],
 "metadata": {
  "kernelspec": {
   "display_name": "Python 3",
   "language": "python",
   "name": "python3"
  },
  "language_info": {
   "codemirror_mode": {
    "name": "ipython",
    "version": 3
   },
   "file_extension": ".py",
   "mimetype": "text/x-python",
   "name": "python",
   "nbconvert_exporter": "python",
   "pygments_lexer": "ipython3",
   "version": "3.7.3"
  }
 },
 "nbformat": 4,
 "nbformat_minor": 2
}
