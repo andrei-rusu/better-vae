{
 "cells": [
  {
   "cell_type": "code",
   "execution_count": 1,
   "metadata": {},
   "outputs": [],
   "source": [
    "import numpy as np\n",
    "\n",
    "import torch\n",
    "import torch.nn as nn\n",
    "import torch.nn.functional as F\n",
    "import torch.optim as optim\n",
    "\n",
    "import torchvision\n",
    "import torchvision.transforms as transforms\n",
    "\n",
    "import utils\n",
    "import models\n",
    "import tensorboard_logging\n",
    "\n",
    "from tqdm import tqdm\n",
    "\n",
    "from utils import AEDatasetWrapper\n",
    "from models import IntroVAE, ConvVAE\n",
    "\n",
    "from tensorboard_logging import TensorBoardExtension, ReconstructionsLogger, TensorBoardModelLogger, LatentSpaceReconLogger, RandomReconLogger"
   ]
  },
  {
   "cell_type": "code",
   "execution_count": 10,
   "metadata": {},
   "outputs": [],
   "source": [
    "# Parameters:\n",
    "params = {'batch_size': 256,\n",
    "              'embedding_dim': 32,\n",
    "              'image_dim': 784,\n",
    "              'nEpoch': 10,\n",
    "              'conv_ch': 32,\n",
    "              'margin': 0}\n",
    "\n",
    "    # Dataset construction\n",
    "transform = transforms.Compose([\n",
    "        transforms.ToTensor(),  # convert to tensor\n",
    "    ])"
   ]
  },
  {
   "cell_type": "code",
   "execution_count": 3,
   "metadata": {},
   "outputs": [
    {
     "name": "stdout",
     "output_type": "stream",
     "text": [
      "Files already downloaded and verified\n",
      "Files already downloaded and verified\n"
     ]
    }
   ],
   "source": [
    "trainset = AEDatasetWrapper(torchvision.datasets.CIFAR10('.', train=True, transform=transform, download=True))\n",
    "trainloader = torch.utils.data.DataLoader(trainset, batch_size=params['batch_size'], shuffle=True, num_workers=1)\n",
    "testset = AEDatasetWrapper(torchvision.datasets.CIFAR10('.', train=False, transform=transform, download=True))\n",
    "testloader = torch.utils.data.DataLoader(testset, batch_size=params['batch_size'], shuffle=False, num_workers=1)"
   ]
  },
  {
   "cell_type": "code",
   "execution_count": 13,
   "metadata": {},
   "outputs": [],
   "source": [
    "# construct the encoder, decoder and optimiser\n",
    "vae = utils.cuda(IntroVAE(params['conv_ch'], params['embedding_dim'], margin=params['margin']))"
   ]
  },
  {
   "cell_type": "code",
   "execution_count": 14,
   "metadata": {},
   "outputs": [],
   "source": [
    "tb_comment = 'intro-vae-2'\n",
    "tbl = TensorBoardExtension(write_graph=True, comment=tb_comment)\n",
    "tbml = TensorBoardModelLogger(comment=tb_comment)\n",
    "rsl = ReconstructionsLogger(comment=tb_comment, output_shape=(3, 32, 32))\n",
    "lsrl = LatentSpaceReconLogger(comment=tb_comment, output_shape=(3, 32, 32), latent_dim=params['embedding_dim'])\n",
    "rrl = RandomReconLogger(comment=tb_comment, latent_dim=params['embedding_dim'], output_shape=(3, 32, 32))"
   ]
  },
  {
   "cell_type": "code",
   "execution_count": 6,
   "metadata": {},
   "outputs": [],
   "source": [
    "# write model graph\n",
    "tbl.direct_call(vae, trainloader)\n",
    "tbl.close_writer()"
   ]
  },
  {
   "cell_type": "code",
   "execution_count": null,
   "metadata": {},
   "outputs": [],
   "source": [
    "# log model\n",
    "tbml.direct_call(vae)\n",
    "tbml.close_writer()"
   ]
  },
  {
   "cell_type": "code",
   "execution_count": 15,
   "metadata": {},
   "outputs": [
    {
     "name": "stderr",
     "output_type": "stream",
     "text": [
      "100%|█████████████████████████████████████████████████████████████| 196/196 [01:21<00:00,  3.16it/s, epoch=0, loss=157]\n",
      "100%|█████████████████████████████████████████████████████████████| 196/196 [01:21<00:00,  3.21it/s, epoch=1, loss=115]\n",
      "100%|█████████████████████████████████████████████████████████████| 196/196 [01:20<00:00,  3.18it/s, epoch=2, loss=105]\n",
      "100%|████████████████████████████████████████████████████████████| 196/196 [01:21<00:00,  3.18it/s, epoch=3, loss=97.9]\n",
      "100%|████████████████████████████████████████████████████████████| 196/196 [01:21<00:00,  3.17it/s, epoch=4, loss=93.7]\n",
      "100%|████████████████████████████████████████████████████████████| 196/196 [01:21<00:00,  3.19it/s, epoch=5, loss=91.5]\n",
      "100%|████████████████████████████████████████████████████████████| 196/196 [01:21<00:00,  3.17it/s, epoch=6, loss=87.4]\n",
      "100%|████████████████████████████████████████████████████████████| 196/196 [01:21<00:00,  3.15it/s, epoch=7, loss=85.5]\n",
      "100%|████████████████████████████████████████████████████████████| 196/196 [01:21<00:00,  3.16it/s, epoch=8, loss=83.4]\n",
      "100%|██████████████████████████████████████████████████████████████| 196/196 [01:21<00:00,  3.17it/s, epoch=9, loss=82]\n"
     ]
    }
   ],
   "source": [
    "# training loop\n",
    "for epoch in range(params['nEpoch']):\n",
    "    losses = []\n",
    "    trainloader = tqdm(trainloader)\n",
    "    \n",
    "    log = True\n",
    "\n",
    "    for i, data in enumerate(trainloader, 0):\n",
    "        inputs, _ = data\n",
    "        inputs = utils.cuda(inputs)\n",
    "        \n",
    "        y_pred = vae(inputs)\n",
    "        \n",
    "        vae.train_iter(inputs)\n",
    "        \n",
    "        loss = F.mse_loss(y_pred[0], inputs, reduction='sum') / inputs.shape[0]\n",
    "\n",
    "        # keep track of the loss and update the stats\n",
    "        losses.append(loss.item())\n",
    "        trainloader.set_postfix(loss=np.mean(losses), epoch=epoch)\n",
    "        \n",
    "        if log:\n",
    "            valid_input, _ = next(iter(testloader))\n",
    "            valid_input = utils.cuda(valid_input)\n",
    "            y_pred_valid = vae(valid_input)\n",
    "            rsl.direct_call(vae, epoch, y_pred_valid)\n",
    "            log = False\n",
    "\n",
    "    # Generate visualisation of reconstructions (each epoch)\n",
    "    lsrl.direct_call(vae, epoch)\n",
    "    rrl.direct_call(vae, epoch)\n",
    "\n",
    "\n",
    "rsl.close_writer()\n",
    "lsrl.close_writer()\n",
    "rrl.close_writer()"
   ]
  },
  {
   "cell_type": "code",
   "execution_count": null,
   "metadata": {},
   "outputs": [],
   "source": []
  }
 ],
 "metadata": {
  "kernelspec": {
   "display_name": "Python 3",
   "language": "python",
   "name": "python3"
  },
  "language_info": {
   "codemirror_mode": {
    "name": "ipython",
    "version": 3
   },
   "file_extension": ".py",
   "mimetype": "text/x-python",
   "name": "python",
   "nbconvert_exporter": "python",
   "pygments_lexer": "ipython3",
   "version": "3.7.2"
  }
 },
 "nbformat": 4,
 "nbformat_minor": 2
}
